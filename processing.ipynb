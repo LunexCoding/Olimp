{
 "cells": [
  {
   "cell_type": "code",
   "execution_count": 4,
   "metadata": {
    "collapsed": true,
    "ExecuteTime": {
     "end_time": "2023-07-26T17:01:29.074404900Z",
     "start_time": "2023-07-26T17:01:29.067392700Z"
    }
   },
   "outputs": [],
   "source": [
    "from consts import FILE_ORDERS\n",
    "from csv_reader import CSVFileReader"
   ]
  },
  {
   "cell_type": "code",
   "execution_count": 5,
   "outputs": [
    {
     "name": "stdout",
     "output_type": "stream",
     "text": [
      "      User Id    Event Dt  Revenue\n",
      "0   234385845  2005-07-02     5.66\n",
      "1   234384545  2035-04-02     5.76\n",
      "2  2334565845  2001-01-02     5.06\n"
     ]
    }
   ],
   "source": [
    "orders = CSVFileReader(FILE_ORDERS)\n",
    "orders.clearData()\n",
    "print(orders.data)"
   ],
   "metadata": {
    "collapsed": false,
    "ExecuteTime": {
     "end_time": "2023-07-26T17:01:29.112076700Z",
     "start_time": "2023-07-26T17:01:29.077390500Z"
    }
   }
  },
  {
   "cell_type": "code",
   "execution_count": 6,
   "outputs": [],
   "source": [
    "orders.writeToDatabase(\"orders\")"
   ],
   "metadata": {
    "collapsed": false,
    "ExecuteTime": {
     "end_time": "2023-07-26T17:01:29.178075800Z",
     "start_time": "2023-07-26T17:01:29.105075400Z"
    }
   }
  },
  {
   "cell_type": "code",
   "execution_count": 6,
   "outputs": [],
   "source": [],
   "metadata": {
    "collapsed": false,
    "ExecuteTime": {
     "end_time": "2023-07-26T17:01:29.187078800Z",
     "start_time": "2023-07-26T17:01:29.136076100Z"
    }
   }
  }
 ],
 "metadata": {
  "kernelspec": {
   "display_name": "Python 3",
   "language": "python",
   "name": "python3"
  },
  "language_info": {
   "codemirror_mode": {
    "name": "ipython",
    "version": 2
   },
   "file_extension": ".py",
   "mimetype": "text/x-python",
   "name": "python",
   "nbconvert_exporter": "python",
   "pygments_lexer": "ipython2",
   "version": "2.7.6"
  }
 },
 "nbformat": 4,
 "nbformat_minor": 0
}
